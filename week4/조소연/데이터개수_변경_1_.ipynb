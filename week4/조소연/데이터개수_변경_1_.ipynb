{
 "cells": [
  {
   "cell_type": "markdown",
   "metadata": {},
   "source": [
    "### https://dsstudy.tistory.com/10\n",
    "##### 참고한 블로그\n",
    "\n",
    "### https://www.tensorflow.org/api_docs/python/tf/keras/layers/LSTM  \n",
    "##### (tensorflow의 lstm 공식문서) -> 옵션들 파악\n",
    "#### lstm 적용하려면 3차원 array 형태로 변환해야함 \n",
    "##### [data_size , time_steps, features] ([batch size, time steps, input_dims])"
   ]
  },
  {
   "cell_type": "code",
   "execution_count": 181,
   "metadata": {},
   "outputs": [],
   "source": [
    "import pandas as pd\n",
    "import seaborn as sns\n",
    "import FinanceDataReader as fdr"
   ]
  },
  {
   "cell_type": "code",
   "execution_count": 182,
   "metadata": {},
   "outputs": [
    {
     "data": {
      "text/plain": [
       "'651'"
      ]
     },
     "execution_count": 182,
     "metadata": {},
     "output_type": "execute_result"
    }
   ],
   "source": [
    "from bs4 import BeautifulSoup\n",
    "import requests\n",
    "\n",
    "\n",
    "###lg 화학 분석\n",
    "if __name__ == '__main__':\n",
    "    url = 'https://finance.naver.com/item/sise_day.nhn?code=005930&page=1'\n",
    "    req = requests.get(url, headers={'User-agent': 'Mozilla/5.0'}).text\n",
    "\n",
    "    html = BeautifulSoup(req, 'lxml')\n",
    "    pgrr = html.find('td', class_='pgRR')\n",
    "    s = str(pgrr.a['href']).split('=')\n",
    "    last_page = s[-1]\n",
    "\n",
    "last_page\n",
    "#마지막 페이지가 522\n"
   ]
  },
  {
   "cell_type": "code",
   "execution_count": 183,
   "metadata": {},
   "outputs": [
    {
     "data": {
      "text/html": [
       "<div>\n",
       "<style scoped>\n",
       "    .dataframe tbody tr th:only-of-type {\n",
       "        vertical-align: middle;\n",
       "    }\n",
       "\n",
       "    .dataframe tbody tr th {\n",
       "        vertical-align: top;\n",
       "    }\n",
       "\n",
       "    .dataframe thead th {\n",
       "        text-align: right;\n",
       "    }\n",
       "</style>\n",
       "<table border=\"1\" class=\"dataframe\">\n",
       "  <thead>\n",
       "    <tr style=\"text-align: right;\">\n",
       "      <th></th>\n",
       "      <th>날짜</th>\n",
       "      <th>종가</th>\n",
       "      <th>전일비</th>\n",
       "      <th>시가</th>\n",
       "      <th>고가</th>\n",
       "      <th>저가</th>\n",
       "      <th>거래량</th>\n",
       "    </tr>\n",
       "  </thead>\n",
       "  <tbody>\n",
       "    <tr>\n",
       "      <th>1</th>\n",
       "      <td>2022.05.31</td>\n",
       "      <td>67400.0</td>\n",
       "      <td>300.0</td>\n",
       "      <td>67500.0</td>\n",
       "      <td>67500.0</td>\n",
       "      <td>66700.0</td>\n",
       "      <td>23430836.0</td>\n",
       "    </tr>\n",
       "    <tr>\n",
       "      <th>2</th>\n",
       "      <td>2022.05.30</td>\n",
       "      <td>67700.0</td>\n",
       "      <td>1200.0</td>\n",
       "      <td>67500.0</td>\n",
       "      <td>67800.0</td>\n",
       "      <td>66900.0</td>\n",
       "      <td>14255484.0</td>\n",
       "    </tr>\n",
       "    <tr>\n",
       "      <th>3</th>\n",
       "      <td>2022.05.27</td>\n",
       "      <td>66500.0</td>\n",
       "      <td>600.0</td>\n",
       "      <td>66700.0</td>\n",
       "      <td>66900.0</td>\n",
       "      <td>66200.0</td>\n",
       "      <td>11405555.0</td>\n",
       "    </tr>\n",
       "    <tr>\n",
       "      <th>4</th>\n",
       "      <td>2022.05.26</td>\n",
       "      <td>65900.0</td>\n",
       "      <td>500.0</td>\n",
       "      <td>66300.0</td>\n",
       "      <td>67200.0</td>\n",
       "      <td>65500.0</td>\n",
       "      <td>15970890.0</td>\n",
       "    </tr>\n",
       "    <tr>\n",
       "      <th>5</th>\n",
       "      <td>2022.05.25</td>\n",
       "      <td>66400.0</td>\n",
       "      <td>100.0</td>\n",
       "      <td>66700.0</td>\n",
       "      <td>67100.0</td>\n",
       "      <td>65900.0</td>\n",
       "      <td>15150490.0</td>\n",
       "    </tr>\n",
       "    <tr>\n",
       "      <th>...</th>\n",
       "      <td>...</td>\n",
       "      <td>...</td>\n",
       "      <td>...</td>\n",
       "      <td>...</td>\n",
       "      <td>...</td>\n",
       "      <td>...</td>\n",
       "      <td>...</td>\n",
       "    </tr>\n",
       "    <tr>\n",
       "      <th>9</th>\n",
       "      <td>1996.07.01</td>\n",
       "      <td>72000.0</td>\n",
       "      <td>3500.0</td>\n",
       "      <td>69000.0</td>\n",
       "      <td>72300.0</td>\n",
       "      <td>68800.0</td>\n",
       "      <td>147310.0</td>\n",
       "    </tr>\n",
       "    <tr>\n",
       "      <th>10</th>\n",
       "      <td>1996.06.29</td>\n",
       "      <td>68500.0</td>\n",
       "      <td>400.0</td>\n",
       "      <td>68100.0</td>\n",
       "      <td>69100.0</td>\n",
       "      <td>67100.0</td>\n",
       "      <td>96710.0</td>\n",
       "    </tr>\n",
       "    <tr>\n",
       "      <th>11</th>\n",
       "      <td>1996.06.28</td>\n",
       "      <td>68100.0</td>\n",
       "      <td>1200.0</td>\n",
       "      <td>67300.0</td>\n",
       "      <td>68500.0</td>\n",
       "      <td>67200.0</td>\n",
       "      <td>138430.0</td>\n",
       "    </tr>\n",
       "    <tr>\n",
       "      <th>12</th>\n",
       "      <td>1996.06.27</td>\n",
       "      <td>66900.0</td>\n",
       "      <td>800.0</td>\n",
       "      <td>67500.0</td>\n",
       "      <td>67700.0</td>\n",
       "      <td>66700.0</td>\n",
       "      <td>155450.0</td>\n",
       "    </tr>\n",
       "    <tr>\n",
       "      <th>13</th>\n",
       "      <td>1996.06.26</td>\n",
       "      <td>67700.0</td>\n",
       "      <td>200.0</td>\n",
       "      <td>67600.0</td>\n",
       "      <td>67900.0</td>\n",
       "      <td>66000.0</td>\n",
       "      <td>136630.0</td>\n",
       "    </tr>\n",
       "  </tbody>\n",
       "</table>\n",
       "<p>6510 rows × 7 columns</p>\n",
       "</div>"
      ],
      "text/plain": [
       "            날짜       종가     전일비       시가       고가       저가         거래량\n",
       "1   2022.05.31  67400.0   300.0  67500.0  67500.0  66700.0  23430836.0\n",
       "2   2022.05.30  67700.0  1200.0  67500.0  67800.0  66900.0  14255484.0\n",
       "3   2022.05.27  66500.0   600.0  66700.0  66900.0  66200.0  11405555.0\n",
       "4   2022.05.26  65900.0   500.0  66300.0  67200.0  65500.0  15970890.0\n",
       "5   2022.05.25  66400.0   100.0  66700.0  67100.0  65900.0  15150490.0\n",
       "..         ...      ...     ...      ...      ...      ...         ...\n",
       "9   1996.07.01  72000.0  3500.0  69000.0  72300.0  68800.0    147310.0\n",
       "10  1996.06.29  68500.0   400.0  68100.0  69100.0  67100.0     96710.0\n",
       "11  1996.06.28  68100.0  1200.0  67300.0  68500.0  67200.0    138430.0\n",
       "12  1996.06.27  66900.0   800.0  67500.0  67700.0  66700.0    155450.0\n",
       "13  1996.06.26  67700.0   200.0  67600.0  67900.0  66000.0    136630.0\n",
       "\n",
       "[6510 rows x 7 columns]"
      ]
     },
     "execution_count": 183,
     "metadata": {},
     "output_type": "execute_result"
    }
   ],
   "source": [
    "df = pd.DataFrame()\n",
    "sise_url = 'https://finance.naver.com/item/sise_day.nhn?code=005930'\n",
    "\n",
    "for page in range(1, int(last_page)+1) :\n",
    "  page_url = '{}&page={}'.format(sise_url,page)\n",
    "  df = df.append(pd.read_html(requests.get(page_url,headers={'User-agent': 'Mozilla/5.0'}).text)[0])\n",
    "  \n",
    "df = df.dropna()\n",
    "df"
   ]
  },
  {
   "cell_type": "code",
   "execution_count": 184,
   "metadata": {},
   "outputs": [
    {
     "ename": "OSError",
     "evalue": "Cannot save file into a non-existent directory: '4주차'",
     "output_type": "error",
     "traceback": [
      "\u001b[1;31m---------------------------------------------------------------------------\u001b[0m",
      "\u001b[1;31mOSError\u001b[0m                                   Traceback (most recent call last)",
      "\u001b[1;32m~\\AppData\\Local\\Temp\\ipykernel_1136\\181242064.py\u001b[0m in \u001b[0;36m<module>\u001b[1;34m\u001b[0m\n\u001b[0;32m      5\u001b[0m \u001b[0mdf\u001b[0m\u001b[1;33m.\u001b[0m\u001b[0mset_index\u001b[0m\u001b[1;33m(\u001b[0m\u001b[1;34m'날짜'\u001b[0m\u001b[1;33m,\u001b[0m\u001b[0minplace\u001b[0m\u001b[1;33m=\u001b[0m\u001b[1;32mTrue\u001b[0m\u001b[1;33m)\u001b[0m\u001b[1;33m\u001b[0m\u001b[1;33m\u001b[0m\u001b[0m\n\u001b[0;32m      6\u001b[0m \u001b[0mdf\u001b[0m \u001b[1;33m=\u001b[0m \u001b[0mdf\u001b[0m\u001b[1;33m.\u001b[0m\u001b[0msort_values\u001b[0m\u001b[1;33m(\u001b[0m\u001b[1;34m'날짜'\u001b[0m\u001b[1;33m)\u001b[0m\u001b[1;33m\u001b[0m\u001b[1;33m\u001b[0m\u001b[0m\n\u001b[1;32m----> 7\u001b[1;33m \u001b[0mdf\u001b[0m\u001b[1;33m.\u001b[0m\u001b[0mto_csv\u001b[0m\u001b[1;33m(\u001b[0m\u001b[1;34m'./4주차/samsung'\u001b[0m\u001b[1;33m)\u001b[0m\u001b[1;33m\u001b[0m\u001b[1;33m\u001b[0m\u001b[0m\n\u001b[0m",
      "\u001b[1;32m~\\anaconda3_1\\envs\\dataanalysis\\lib\\site-packages\\pandas\\core\\generic.py\u001b[0m in \u001b[0;36mto_csv\u001b[1;34m(self, path_or_buf, sep, na_rep, float_format, columns, header, index, index_label, mode, encoding, compression, quoting, quotechar, line_terminator, chunksize, date_format, doublequote, escapechar, decimal, errors, storage_options)\u001b[0m\n\u001b[0;32m   3549\u001b[0m         )\n\u001b[0;32m   3550\u001b[0m \u001b[1;33m\u001b[0m\u001b[0m\n\u001b[1;32m-> 3551\u001b[1;33m         return DataFrameRenderer(formatter).to_csv(\n\u001b[0m\u001b[0;32m   3552\u001b[0m             \u001b[0mpath_or_buf\u001b[0m\u001b[1;33m,\u001b[0m\u001b[1;33m\u001b[0m\u001b[1;33m\u001b[0m\u001b[0m\n\u001b[0;32m   3553\u001b[0m             \u001b[0mline_terminator\u001b[0m\u001b[1;33m=\u001b[0m\u001b[0mline_terminator\u001b[0m\u001b[1;33m,\u001b[0m\u001b[1;33m\u001b[0m\u001b[1;33m\u001b[0m\u001b[0m\n",
      "\u001b[1;32m~\\anaconda3_1\\envs\\dataanalysis\\lib\\site-packages\\pandas\\io\\formats\\format.py\u001b[0m in \u001b[0;36mto_csv\u001b[1;34m(self, path_or_buf, encoding, sep, columns, index_label, mode, compression, quoting, quotechar, line_terminator, chunksize, date_format, doublequote, escapechar, errors, storage_options)\u001b[0m\n\u001b[0;32m   1178\u001b[0m             \u001b[0mformatter\u001b[0m\u001b[1;33m=\u001b[0m\u001b[0mself\u001b[0m\u001b[1;33m.\u001b[0m\u001b[0mfmt\u001b[0m\u001b[1;33m,\u001b[0m\u001b[1;33m\u001b[0m\u001b[1;33m\u001b[0m\u001b[0m\n\u001b[0;32m   1179\u001b[0m         )\n\u001b[1;32m-> 1180\u001b[1;33m         \u001b[0mcsv_formatter\u001b[0m\u001b[1;33m.\u001b[0m\u001b[0msave\u001b[0m\u001b[1;33m(\u001b[0m\u001b[1;33m)\u001b[0m\u001b[1;33m\u001b[0m\u001b[1;33m\u001b[0m\u001b[0m\n\u001b[0m\u001b[0;32m   1181\u001b[0m \u001b[1;33m\u001b[0m\u001b[0m\n\u001b[0;32m   1182\u001b[0m         \u001b[1;32mif\u001b[0m \u001b[0mcreated_buffer\u001b[0m\u001b[1;33m:\u001b[0m\u001b[1;33m\u001b[0m\u001b[1;33m\u001b[0m\u001b[0m\n",
      "\u001b[1;32m~\\anaconda3_1\\envs\\dataanalysis\\lib\\site-packages\\pandas\\io\\formats\\csvs.py\u001b[0m in \u001b[0;36msave\u001b[1;34m(self)\u001b[0m\n\u001b[0;32m    239\u001b[0m         \"\"\"\n\u001b[0;32m    240\u001b[0m         \u001b[1;31m# apply compression and byte/text conversion\u001b[0m\u001b[1;33m\u001b[0m\u001b[1;33m\u001b[0m\u001b[1;33m\u001b[0m\u001b[0m\n\u001b[1;32m--> 241\u001b[1;33m         with get_handle(\n\u001b[0m\u001b[0;32m    242\u001b[0m             \u001b[0mself\u001b[0m\u001b[1;33m.\u001b[0m\u001b[0mfilepath_or_buffer\u001b[0m\u001b[1;33m,\u001b[0m\u001b[1;33m\u001b[0m\u001b[1;33m\u001b[0m\u001b[0m\n\u001b[0;32m    243\u001b[0m             \u001b[0mself\u001b[0m\u001b[1;33m.\u001b[0m\u001b[0mmode\u001b[0m\u001b[1;33m,\u001b[0m\u001b[1;33m\u001b[0m\u001b[1;33m\u001b[0m\u001b[0m\n",
      "\u001b[1;32m~\\anaconda3_1\\envs\\dataanalysis\\lib\\site-packages\\pandas\\io\\common.py\u001b[0m in \u001b[0;36mget_handle\u001b[1;34m(path_or_buf, mode, encoding, compression, memory_map, is_text, errors, storage_options)\u001b[0m\n\u001b[0;32m    695\u001b[0m     \u001b[1;31m# Only for write methods\u001b[0m\u001b[1;33m\u001b[0m\u001b[1;33m\u001b[0m\u001b[1;33m\u001b[0m\u001b[0m\n\u001b[0;32m    696\u001b[0m     \u001b[1;32mif\u001b[0m \u001b[1;34m\"r\"\u001b[0m \u001b[1;32mnot\u001b[0m \u001b[1;32min\u001b[0m \u001b[0mmode\u001b[0m \u001b[1;32mand\u001b[0m \u001b[0mis_path\u001b[0m\u001b[1;33m:\u001b[0m\u001b[1;33m\u001b[0m\u001b[1;33m\u001b[0m\u001b[0m\n\u001b[1;32m--> 697\u001b[1;33m         \u001b[0mcheck_parent_directory\u001b[0m\u001b[1;33m(\u001b[0m\u001b[0mstr\u001b[0m\u001b[1;33m(\u001b[0m\u001b[0mhandle\u001b[0m\u001b[1;33m)\u001b[0m\u001b[1;33m)\u001b[0m\u001b[1;33m\u001b[0m\u001b[1;33m\u001b[0m\u001b[0m\n\u001b[0m\u001b[0;32m    698\u001b[0m \u001b[1;33m\u001b[0m\u001b[0m\n\u001b[0;32m    699\u001b[0m     \u001b[1;32mif\u001b[0m \u001b[0mcompression\u001b[0m\u001b[1;33m:\u001b[0m\u001b[1;33m\u001b[0m\u001b[1;33m\u001b[0m\u001b[0m\n",
      "\u001b[1;32m~\\anaconda3_1\\envs\\dataanalysis\\lib\\site-packages\\pandas\\io\\common.py\u001b[0m in \u001b[0;36mcheck_parent_directory\u001b[1;34m(path)\u001b[0m\n\u001b[0;32m    569\u001b[0m     \u001b[0mparent\u001b[0m \u001b[1;33m=\u001b[0m \u001b[0mPath\u001b[0m\u001b[1;33m(\u001b[0m\u001b[0mpath\u001b[0m\u001b[1;33m)\u001b[0m\u001b[1;33m.\u001b[0m\u001b[0mparent\u001b[0m\u001b[1;33m\u001b[0m\u001b[1;33m\u001b[0m\u001b[0m\n\u001b[0;32m    570\u001b[0m     \u001b[1;32mif\u001b[0m \u001b[1;32mnot\u001b[0m \u001b[0mparent\u001b[0m\u001b[1;33m.\u001b[0m\u001b[0mis_dir\u001b[0m\u001b[1;33m(\u001b[0m\u001b[1;33m)\u001b[0m\u001b[1;33m:\u001b[0m\u001b[1;33m\u001b[0m\u001b[1;33m\u001b[0m\u001b[0m\n\u001b[1;32m--> 571\u001b[1;33m         \u001b[1;32mraise\u001b[0m \u001b[0mOSError\u001b[0m\u001b[1;33m(\u001b[0m\u001b[1;34mrf\"Cannot save file into a non-existent directory: '{parent}'\"\u001b[0m\u001b[1;33m)\u001b[0m\u001b[1;33m\u001b[0m\u001b[1;33m\u001b[0m\u001b[0m\n\u001b[0m\u001b[0;32m    572\u001b[0m \u001b[1;33m\u001b[0m\u001b[0m\n\u001b[0;32m    573\u001b[0m \u001b[1;33m\u001b[0m\u001b[0m\n",
      "\u001b[1;31mOSError\u001b[0m: Cannot save file into a non-existent directory: '4주차'"
     ]
    }
   ],
   "source": [
    "\n",
    "df['날짜']= df['날짜'].astype('str')\n",
    "df['날짜'] = pd.to_datetime(df['날짜'])\n",
    "# pd.to_datetime(df['date'])\n",
    "df['날짜']\n",
    "df.set_index('날짜',inplace=True)\n",
    "df = df.sort_values('날짜')\n",
    "df.to_csv('./4주차/samsung')"
   ]
  },
  {
   "cell_type": "code",
   "execution_count": null,
   "metadata": {},
   "outputs": [
    {
     "data": {
      "text/plain": [
       "Text(0, 0.5, 'price')"
      ]
     },
     "execution_count": 154,
     "metadata": {},
     "output_type": "execute_result"
    },
    {
     "data": {
      "image/png": "[encoded data removed]",
      "text/plain": [
       "<Figure size 1152x648 with 1 Axes>"
      ]
     },
     "metadata": {
      "needs_background": "light"
     },
     "output_type": "display_data"
    }
   ],
   "source": [
    "plt.figure(figsize=(16, 9))\n",
    "sns.lineplot(y=df['종가'], x=df.index)\n",
    "plt.xlabel('time')\n",
    "plt.ylabel('price')"
   ]
  },
  {
   "cell_type": "code",
   "execution_count": null,
   "metadata": {},
   "outputs": [
    {
     "data": {
      "text/html": [
       "<div>\n",
       "<style scoped>\n",
       "    .dataframe tbody tr th:only-of-type {\n",
       "        vertical-align: middle;\n",
       "    }\n",
       "\n",
       "    .dataframe tbody tr th {\n",
       "        vertical-align: top;\n",
       "    }\n",
       "\n",
       "    .dataframe thead th {\n",
       "        text-align: right;\n",
       "    }\n",
       "</style>\n",
       "<table border=\"1\" class=\"dataframe\">\n",
       "  <thead>\n",
       "    <tr style=\"text-align: right;\">\n",
       "      <th></th>\n",
       "      <th>시가</th>\n",
       "      <th>고가</th>\n",
       "      <th>저가</th>\n",
       "      <th>거래량</th>\n",
       "      <th>종가</th>\n",
       "    </tr>\n",
       "  </thead>\n",
       "  <tbody>\n",
       "    <tr>\n",
       "      <th>0</th>\n",
       "      <td>0.023513</td>\n",
       "      <td>0.023609</td>\n",
       "      <td>0.023256</td>\n",
       "      <td>0.001513</td>\n",
       "      <td>0.012165</td>\n",
       "    </tr>\n",
       "    <tr>\n",
       "      <th>1</th>\n",
       "      <td>0.023478</td>\n",
       "      <td>0.023540</td>\n",
       "      <td>0.023502</td>\n",
       "      <td>0.001721</td>\n",
       "      <td>0.011882</td>\n",
       "    </tr>\n",
       "    <tr>\n",
       "      <th>2</th>\n",
       "      <td>0.023409</td>\n",
       "      <td>0.023818</td>\n",
       "      <td>0.023679</td>\n",
       "      <td>0.001533</td>\n",
       "      <td>0.012307</td>\n",
       "    </tr>\n",
       "    <tr>\n",
       "      <th>3</th>\n",
       "      <td>0.023687</td>\n",
       "      <td>0.024026</td>\n",
       "      <td>0.023643</td>\n",
       "      <td>0.001071</td>\n",
       "      <td>0.012448</td>\n",
       "    </tr>\n",
       "    <tr>\n",
       "      <th>4</th>\n",
       "      <td>0.024000</td>\n",
       "      <td>0.025139</td>\n",
       "      <td>0.024242</td>\n",
       "      <td>0.001631</td>\n",
       "      <td>0.013686</td>\n",
       "    </tr>\n",
       "    <tr>\n",
       "      <th>...</th>\n",
       "      <td>...</td>\n",
       "      <td>...</td>\n",
       "      <td>...</td>\n",
       "      <td>...</td>\n",
       "      <td>...</td>\n",
       "    </tr>\n",
       "    <tr>\n",
       "      <th>6505</th>\n",
       "      <td>0.023200</td>\n",
       "      <td>0.023331</td>\n",
       "      <td>0.023221</td>\n",
       "      <td>0.167768</td>\n",
       "      <td>0.011706</td>\n",
       "    </tr>\n",
       "    <tr>\n",
       "      <th>6506</th>\n",
       "      <td>0.023061</td>\n",
       "      <td>0.023366</td>\n",
       "      <td>0.023080</td>\n",
       "      <td>0.176853</td>\n",
       "      <td>0.011529</td>\n",
       "    </tr>\n",
       "    <tr>\n",
       "      <th>6507</th>\n",
       "      <td>0.023200</td>\n",
       "      <td>0.023261</td>\n",
       "      <td>0.023326</td>\n",
       "      <td>0.126299</td>\n",
       "      <td>0.011741</td>\n",
       "    </tr>\n",
       "    <tr>\n",
       "      <th>6508</th>\n",
       "      <td>0.023478</td>\n",
       "      <td>0.023574</td>\n",
       "      <td>0.023573</td>\n",
       "      <td>0.157857</td>\n",
       "      <td>0.012165</td>\n",
       "    </tr>\n",
       "    <tr>\n",
       "      <th>6509</th>\n",
       "      <td>0.023478</td>\n",
       "      <td>0.023470</td>\n",
       "      <td>0.023502</td>\n",
       "      <td>0.259460</td>\n",
       "      <td>0.012059</td>\n",
       "    </tr>\n",
       "  </tbody>\n",
       "</table>\n",
       "<p>6510 rows × 5 columns</p>\n",
       "</div>"
      ],
      "text/plain": [
       "            시가        고가        저가       거래량        종가\n",
       "0     0.023513  0.023609  0.023256  0.001513  0.012165\n",
       "1     0.023478  0.023540  0.023502  0.001721  0.011882\n",
       "2     0.023409  0.023818  0.023679  0.001533  0.012307\n",
       "3     0.023687  0.024026  0.023643  0.001071  0.012448\n",
       "4     0.024000  0.025139  0.024242  0.001631  0.013686\n",
       "...        ...       ...       ...       ...       ...\n",
       "6505  0.023200  0.023331  0.023221  0.167768  0.011706\n",
       "6506  0.023061  0.023366  0.023080  0.176853  0.011529\n",
       "6507  0.023200  0.023261  0.023326  0.126299  0.011741\n",
       "6508  0.023478  0.023574  0.023573  0.157857  0.012165\n",
       "6509  0.023478  0.023470  0.023502  0.259460  0.012059\n",
       "\n",
       "[6510 rows x 5 columns]"
      ]
     },
     "execution_count": 180,
     "metadata": {},
     "output_type": "execute_result"
    }
   ],
   "source": [
    "from sklearn.preprocessing import MinMaxScaler\n",
    "\n",
    "# 피처값 스케일링\n",
    "scaler = MinMaxScaler()\n",
    "\n",
    "df[['전일비','시가','고가','저가','거래량']] = scaler.fit_transform(df[['전일비','시가','고가','저가','거래량']])\n",
    "\n",
    "# 타켓 스케일링\n",
    "scaler1 = MinMaxScaler()\n",
    "df['종가'] = scaler1.fit_transform(df['종가'].values.reshape(-1,1))\n",
    "\n",
    "# 스케일링 결과 확인\n",
    "df"
   ]
  },
  {
   "cell_type": "code",
   "execution_count": null,
   "metadata": {},
   "outputs": [
    {
     "name": "stdout",
     "output_type": "stream",
     "text": [
      "train set 확인:  (5208, 5) (5208,)\n",
      "test set 확인:  (1302, 5) (1302,)\n"
     ]
    }
   ],
   "source": [
    "from sklearn.model_selection import train_test_split\n",
    "x_train, x_test, y_train, y_test = train_test_split(df.drop('종가', 1), df['종가'], test_size=0.2, random_state=11, shuffle=False)\n",
    "print('train set 확인: ' ,  x_train.shape, y_train.shape)\n",
    "print('test set 확인: ' ,  x_test.shape, y_test.shape)"
   ]
  },
  {
   "cell_type": "code",
   "execution_count": null,
   "metadata": {},
   "outputs": [
    {
     "data": {
      "text/plain": [
       "날짜\n",
       "2017-02-13    1898000.0\n",
       "2017-02-14    1879000.0\n",
       "2017-02-15    1886000.0\n",
       "2017-02-16    1901000.0\n",
       "2017-02-17    1893000.0\n",
       "                ...    \n",
       "2022-05-25      66400.0\n",
       "2022-05-26      65900.0\n",
       "2022-05-27      66500.0\n",
       "2022-05-30      67700.0\n",
       "2022-05-31      67400.0\n",
       "Name: 종가, Length: 1302, dtype: float64"
      ]
     },
     "execution_count": 179,
     "metadata": {},
     "output_type": "execute_result"
    }
   ],
   "source": [
    "y_test"
   ]
  },
  {
   "cell_type": "code",
   "execution_count": null,
   "metadata": {},
   "outputs": [],
   "source": [
    "WINDOW_SIZE=20\n",
    "BATCH_SIZE=32"
   ]
  },
  {
   "cell_type": "code",
   "execution_count": null,
   "metadata": {},
   "outputs": [],
   "source": [
    "train_data = windowed_dataset(y_train, WINDOW_SIZE, BATCH_SIZE, True)\n",
    "test_data = windowed_dataset(y_test, WINDOW_SIZE, BATCH_SIZE, False)"
   ]
  },
  {
   "cell_type": "code",
   "execution_count": null,
   "metadata": {},
   "outputs": [
    {
     "name": "stdout",
     "output_type": "stream",
     "text": [
      "데이터셋(X) 구성(batch_size, window_size, feature갯수): (32, 20, 1)\n",
      "데이터셋(Y) 구성(batch_size, window_size, feature갯수): (32, 1)\n"
     ]
    }
   ],
   "source": [
    " # X: (batch_size, window_size, feature)\n",
    "# Y: (batch_size, feature)\n",
    "for data in train_data.take(1):\n",
    "    print(f'데이터셋(X) 구성(batch_size, window_size, feature갯수): {data[0].shape}')\n",
    "    print(f'데이터셋(Y) 구성(batch_size, window_size, feature갯수): {data[1].shape}')"
   ]
  },
  {
   "cell_type": "code",
   "execution_count": null,
   "metadata": {},
   "outputs": [],
   "source": [
    "from tensorflow.keras.models import Sequential\n",
    "from tensorflow.keras.layers import Dense, LSTM, Conv1D, Lambda\n",
    "from tensorflow.keras.losses import Huber\n",
    "from tensorflow.keras.optimizers import Adam\n",
    "from tensorflow.keras.callbacks import EarlyStopping, ModelCheckpoint\n",
    "\n",
    "\n",
    "model = Sequential([\n",
    "    # 1차원 feature map 생성\n",
    "    Conv1D(filters=32, kernel_size=5,\n",
    "           padding=\"causal\",\n",
    "           activation=\"relu\",\n",
    "           input_shape=[WINDOW_SIZE, 1]),\n",
    "    # LSTM\n",
    "    LSTM(16, activation='tanh'),\n",
    "    Dense(16, activation=\"relu\"),\n",
    "    Dense(1),\n",
    "])"
   ]
  },
  {
   "cell_type": "code",
   "execution_count": null,
   "metadata": {},
   "outputs": [],
   "source": [
    "loss = Huber()\n",
    "optimizer = Adam(0.0005)\n",
    "model.compile(loss=Huber(), optimizer=optimizer, metrics=['mse'])"
   ]
  },
  {
   "cell_type": "code",
   "execution_count": null,
   "metadata": {},
   "outputs": [],
   "source": [
    "earlystopping = EarlyStopping(monitor='val_loss', patience=10)"
   ]
  },
  {
   "cell_type": "code",
   "execution_count": null,
   "metadata": {},
   "outputs": [
    {
     "name": "stdout",
     "output_type": "stream",
     "text": [
      "Epoch 1/50\n",
      "163/163 [==============================] - 8s 22ms/step - loss: 648042.8750 - mse: 641087569920.0000 - val_loss: 576582.0625 - val_mse: 1301915631616.0000\n",
      "Epoch 2/50\n",
      "163/163 [==============================] - 3s 18ms/step - loss: 648041.0625 - mse: 641085341696.0000 - val_loss: 576580.1250 - val_mse: 1301913272320.0000\n",
      "Epoch 3/50\n",
      "163/163 [==============================] - 3s 16ms/step - loss: 648039.1250 - mse: 641082261504.0000 - val_loss: 576577.5000 - val_mse: 1301910257664.0000\n",
      "Epoch 4/50\n",
      "163/163 [==============================] - 3s 18ms/step - loss: 648035.7500 - mse: 641077870592.0000 - val_loss: 576573.8125 - val_mse: 1301906194432.0000\n",
      "Epoch 5/50\n",
      "163/163 [==============================] - 3s 18ms/step - loss: 648031.8125 - mse: 641072693248.0000 - val_loss: 576569.5625 - val_mse: 1301901344768.0000\n",
      "Epoch 6/50\n",
      "163/163 [==============================] - 3s 18ms/step - loss: 648027.0000 - mse: 641066270720.0000 - val_loss: 576564.1875 - val_mse: 1301895184384.0000\n",
      "Epoch 7/50\n",
      "163/163 [==============================] - 3s 16ms/step - loss: 648021.6250 - mse: 641059127296.0000 - val_loss: 576558.4375 - val_mse: 1301888630784.0000\n",
      "Epoch 8/50\n",
      "163/163 [==============================] - 3s 17ms/step - loss: 648015.3750 - mse: 641050738688.0000 - val_loss: 576551.8750 - val_mse: 1301881159680.0000\n",
      "Epoch 9/50\n",
      "163/163 [==============================] - 3s 17ms/step - loss: 648008.6250 - mse: 641041694720.0000 - val_loss: 576544.6250 - val_mse: 1301872115712.0000\n",
      "Epoch 10/50\n",
      "163/163 [==============================] - 3s 19ms/step - loss: 648000.9375 - mse: 641031733248.0000 - val_loss: 576536.9375 - val_mse: 1301863464960.0000\n",
      "Epoch 11/50\n",
      "163/163 [==============================] - 3s 16ms/step - loss: 647992.5625 - mse: 641021050880.0000 - val_loss: 576528.2500 - val_mse: 1301853896704.0000\n",
      "Epoch 12/50\n",
      "163/163 [==============================] - 3s 16ms/step - loss: 647983.9375 - mse: 641009516544.0000 - val_loss: 576519.5000 - val_mse: 1301843017728.0000\n",
      "Epoch 13/50\n",
      "163/163 [==============================] - 2s 14ms/step - loss: 647974.4375 - mse: 640997064704.0000 - val_loss: 576509.6250 - val_mse: 1301832138752.0000\n",
      "Epoch 14/50\n",
      "163/163 [==============================] - 3s 17ms/step - loss: 647964.7500 - mse: 640984023040.0000 - val_loss: 576499.5000 - val_mse: 1301820080128.0000\n",
      "Epoch 15/50\n",
      "163/163 [==============================] - 3s 16ms/step - loss: 647954.0625 - mse: 640970260480.0000 - val_loss: 576488.3750 - val_mse: 1301807497216.0000\n",
      "Epoch 16/50\n",
      "163/163 [==============================] - 3s 15ms/step - loss: 647943.0625 - mse: 640955908096.0000 - val_loss: 576477.5625 - val_mse: 1301794914304.0000\n",
      "Epoch 17/50\n",
      "163/163 [==============================] - 3s 16ms/step - loss: 647931.4375 - mse: 640940900352.0000 - val_loss: 576465.6875 - val_mse: 1301781413888.0000\n",
      "Epoch 18/50\n",
      "163/163 [==============================] - 3s 15ms/step - loss: 647919.2500 - mse: 640925171712.0000 - val_loss: 576453.3125 - val_mse: 1301766864896.0000\n",
      "Epoch 19/50\n",
      "163/163 [==============================] - 3s 16ms/step - loss: 647906.7500 - mse: 640908722176.0000 - val_loss: 576440.3750 - val_mse: 1301752053760.0000\n",
      "Epoch 20/50\n",
      "163/163 [==============================] - 4s 24ms/step - loss: 647893.8125 - mse: 640891682816.0000 - val_loss: 576427.3125 - val_mse: 1301736849408.0000\n",
      "Epoch 21/50\n",
      "163/163 [==============================] - 3s 19ms/step - loss: 647880.0625 - mse: 640874053632.0000 - val_loss: 576413.6875 - val_mse: 1301720596480.0000\n",
      "Epoch 22/50\n",
      "163/163 [==============================] - 4s 24ms/step - loss: 647866.1875 - mse: 640855834624.0000 - val_loss: 576399.3125 - val_mse: 1301704343552.0000\n",
      "Epoch 23/50\n",
      "163/163 [==============================] - 4s 25ms/step - loss: 647851.7500 - mse: 640837156864.0000 - val_loss: 576384.6250 - val_mse: 1301688090624.0000\n",
      "Epoch 24/50\n",
      "163/163 [==============================] - 3s 19ms/step - loss: 647836.8750 - mse: 640817692672.0000 - val_loss: 576369.7500 - val_mse: 1301670002688.0000\n",
      "Epoch 25/50\n",
      "163/163 [==============================] - 3s 17ms/step - loss: 647821.5000 - mse: 640797769728.0000 - val_loss: 576354.0625 - val_mse: 1301652307968.0000\n",
      "Epoch 26/50\n",
      "163/163 [==============================] - 3s 15ms/step - loss: 647805.4375 - mse: 640776404992.0000 - val_loss: 576336.6875 - val_mse: 1301632647168.0000\n",
      "Epoch 27/50\n",
      "163/163 [==============================] - 3s 15ms/step - loss: 647787.5625 - mse: 640753074176.0000 - val_loss: 576318.7500 - val_mse: 1301611544576.0000\n",
      "Epoch 28/50\n",
      "163/163 [==============================] - 3s 17ms/step - loss: 647769.1875 - mse: 640729415680.0000 - val_loss: 576300.2500 - val_mse: 1301590573056.0000\n",
      "Epoch 29/50\n",
      "163/163 [==============================] - 3s 18ms/step - loss: 647750.5000 - mse: 640704905216.0000 - val_loss: 576281.4375 - val_mse: 1301568028672.0000\n",
      "Epoch 30/50\n",
      "163/163 [==============================] - 3s 19ms/step - loss: 647731.3125 - mse: 640679870464.0000 - val_loss: 576262.0625 - val_mse: 1301546139648.0000\n",
      "Epoch 31/50\n",
      "163/163 [==============================] - 4s 18ms/step - loss: 647711.8750 - mse: 640654180352.0000 - val_loss: 576242.1250 - val_mse: 1301523070976.0000\n",
      "Epoch 32/50\n",
      "163/163 [==============================] - 3s 18ms/step - loss: 647691.4375 - mse: 640627965952.0000 - val_loss: 576221.7500 - val_mse: 1301498953728.0000\n",
      "Epoch 33/50\n",
      "163/163 [==============================] - 3s 16ms/step - loss: 647670.8125 - mse: 640601030656.0000 - val_loss: 576200.8125 - val_mse: 1301475622912.0000\n",
      "Epoch 34/50\n",
      "163/163 [==============================] - 3s 15ms/step - loss: 647649.6250 - mse: 640573440000.0000 - val_loss: 576179.2500 - val_mse: 1301450981376.0000\n",
      "Epoch 35/50\n",
      "163/163 [==============================] - 4s 22ms/step - loss: 647627.9375 - mse: 640545390592.0000 - val_loss: 576157.7500 - val_mse: 1301425684480.0000\n",
      "Epoch 36/50\n",
      "163/163 [==============================] - 3s 19ms/step - loss: 647605.6875 - mse: 640516751360.0000 - val_loss: 576135.1875 - val_mse: 1301399863296.0000\n",
      "Epoch 37/50\n",
      "163/163 [==============================] - 3s 19ms/step - loss: 647583.3750 - mse: 640487522304.0000 - val_loss: 576112.5000 - val_mse: 1301373386752.0000\n",
      "Epoch 38/50\n",
      "163/163 [==============================] - 3s 17ms/step - loss: 647560.1875 - mse: 640457637888.0000 - val_loss: 576089.1875 - val_mse: 1301346516992.0000\n",
      "Epoch 39/50\n",
      "163/163 [==============================] - 3s 14ms/step - loss: 647536.8750 - mse: 640427163648.0000 - val_loss: 576065.6250 - val_mse: 1301319122944.0000\n",
      "Epoch 40/50\n",
      "163/163 [==============================] - 3s 15ms/step - loss: 647512.9375 - mse: 640395902976.0000 - val_loss: 576041.3125 - val_mse: 1301291466752.0000\n",
      "Epoch 41/50\n",
      "163/163 [==============================] - 3s 16ms/step - loss: 647488.5000 - mse: 640364118016.0000 - val_loss: 576016.8750 - val_mse: 1301263155200.0000\n",
      "Epoch 42/50\n",
      "163/163 [==============================] - 3s 16ms/step - loss: 647463.4375 - mse: 640331743232.0000 - val_loss: 575991.6875 - val_mse: 1301234319360.0000\n",
      "Epoch 43/50\n",
      "163/163 [==============================] - 3s 16ms/step - loss: 647438.3750 - mse: 640298975232.0000 - val_loss: 575966.4375 - val_mse: 1301204697088.0000\n",
      "Epoch 44/50\n",
      "163/163 [==============================] - 3s 16ms/step - loss: 647412.1875 - mse: 640265158656.0000 - val_loss: 575940.3750 - val_mse: 1301174812672.0000\n",
      "Epoch 45/50\n",
      "163/163 [==============================] - 3s 15ms/step - loss: 647386.0625 - mse: 640231014400.0000 - val_loss: 575913.7500 - val_mse: 1301144403968.0000\n",
      "Epoch 46/50\n",
      "163/163 [==============================] - 3s 17ms/step - loss: 647359.2500 - mse: 640196411392.0000 - val_loss: 575887.0000 - val_mse: 1301113208832.0000\n",
      "Epoch 47/50\n",
      "163/163 [==============================] - 3s 16ms/step - loss: 647332.2500 - mse: 640161087488.0000 - val_loss: 575859.5625 - val_mse: 1301081489408.0000\n",
      "Epoch 48/50\n",
      "163/163 [==============================] - 3s 15ms/step - loss: 647304.3125 - mse: 640125173760.0000 - val_loss: 575831.6250 - val_mse: 1301048983552.0000\n",
      "Epoch 49/50\n",
      "163/163 [==============================] - 3s 15ms/step - loss: 647276.1875 - mse: 640088670208.0000 - val_loss: 575803.3125 - val_mse: 1301016608768.0000\n",
      "Epoch 50/50\n",
      "163/163 [==============================] - 3s 15ms/step - loss: 647247.5625 - mse: 640051511296.0000 - val_loss: 575774.6250 - val_mse: 1300983185408.0000\n"
     ]
    }
   ],
   "source": [
    "history = model.fit(train_data, \n",
    "                    validation_data=(test_data), \n",
    "                    epochs=50, \n",
    "                    callbacks=[earlystopping])"
   ]
  },
  {
   "cell_type": "code",
   "execution_count": null,
   "metadata": {},
   "outputs": [
    {
     "name": "stdout",
     "output_type": "stream",
     "text": [
      "41/41 [==============================] - 1s 8ms/step\n"
     ]
    },
    {
     "data": {
      "text/plain": [
       "(1282, 1)"
      ]
     },
     "execution_count": 172,
     "metadata": {},
     "output_type": "execute_result"
    }
   ],
   "source": [
    "pred = model.predict(test_data)\n",
    "pred.shape"
   ]
  },
  {
   "cell_type": "code",
   "execution_count": null,
   "metadata": {},
   "outputs": [
    {
     "name": "stdout",
     "output_type": "stream",
     "text": [
      "(1282, 1)\n",
      "(1302,)\n"
     ]
    }
   ],
   "source": [
    "print(pred.shape)\n",
    "print(y_test.shape)"
   ]
  },
  {
   "cell_type": "code",
   "execution_count": null,
   "metadata": {},
   "outputs": [
    {
     "data": {
      "text/plain": [
       "array([[811.427  ],\n",
       "       [811.427  ],\n",
       "       [811.427  ],\n",
       "       ...,\n",
       "       [811.427  ],\n",
       "       [811.42706],\n",
       "       [811.42706]], dtype=float32)"
      ]
     },
     "execution_count": 177,
     "metadata": {},
     "output_type": "execute_result"
    }
   ],
   "source": [
    "pred"
   ]
  },
  {
   "cell_type": "code",
   "execution_count": null,
   "metadata": {},
   "outputs": [
    {
     "data": {
      "text/plain": [
       "날짜\n",
       "2017-02-13    1898000.0\n",
       "2017-02-14    1879000.0\n",
       "2017-02-15    1886000.0\n",
       "2017-02-16    1901000.0\n",
       "2017-02-17    1893000.0\n",
       "                ...    \n",
       "2022-05-25      66400.0\n",
       "2022-05-26      65900.0\n",
       "2022-05-27      66500.0\n",
       "2022-05-30      67700.0\n",
       "2022-05-31      67400.0\n",
       "Name: 종가, Length: 1302, dtype: float64"
      ]
     },
     "execution_count": 178,
     "metadata": {},
     "output_type": "execute_result"
    }
   ],
   "source": [
    "y_test"
   ]
  },
  {
   "cell_type": "code",
   "execution_count": null,
   "metadata": {},
   "outputs": [
    {
     "data": {
      "image/png": "[encoded data removed]",
      "text/plain": [
       "<Figure size 864x648 with 1 Axes>"
      ]
     },
     "metadata": {
      "needs_background": "light"
     },
     "output_type": "display_data"
    }
   ],
   "source": [
    "plt.figure(figsize=(12, 9))\n",
    "plt.plot(np.asarray(y_test)[20:], label='actual')\n",
    "plt.plot(pred, label='prediction')\n",
    "plt.legend()\n",
    "plt.show()"
   ]
  },
  {
   "cell_type": "code",
   "execution_count": null,
   "metadata": {},
   "outputs": [],
   "source": []
  }
 ],
 "metadata": {
  "interpreter": {
   "hash": "0754b623110a23d22c6e43eca41331837ac6bcbe836a2bdf13571a3f97720831"
  },
  "kernelspec": {
   "display_name": "Python 3.8.13 ('dataanalysis')",
   "language": "python",
   "name": "python3"
  },
  "language_info": {
   "codemirror_mode": {
    "name": "ipython",
    "version": 3
   },
   "file_extension": ".py",
   "mimetype": "text/x-python",
   "name": "python",
   "nbconvert_exporter": "python",
   "pygments_lexer": "ipython3",
   "version": "3.8.13"
  },
  "orig_nbformat": 4
 },
 "nbformat": 4,
 "nbformat_minor": 2
}

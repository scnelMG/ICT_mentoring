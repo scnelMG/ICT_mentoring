{
 "cells": [
  {
   "cell_type": "markdown",
   "id": "f5d47c10",
   "metadata": {},
   "source": [
    "* UI를 Python에서 import하는 방법 사용"
   ]
  },
  {
   "cell_type": "code",
   "execution_count": 1,
   "id": "d01f7dc6",
   "metadata": {},
   "outputs": [],
   "source": [
    "import sys\n",
    "from PyQt5.QtWidgets import *\n",
    "from PyQt5 import uic\n",
    "\n",
    "# UI파일 연결\n",
    "# 단, UI파일은 Python 코드 파일과 같은 디렉토리에 위치해야한다.\n",
    "form_class = uic.loadUiType(\"./practice.ui\")[0]\n",
    "\n",
    "# 화면을 띄우는데 사용되는 Class 선언\n",
    "class WindowClass(QMainWindow, form_class) :\n",
    "    def __init__(self) :\n",
    "        super().__init__()\n",
    "        self.setupUi(self)\n",
    "        \n",
    "        ### 추후에 시그널(위젯이 바뀌었을 때 하는 특정 행동)을 여기에 입력 ###\n",
    "\n",
    "if __name__ == \"__main__\" :\n",
    "    #QApplication : 프로그램을 실행시켜주는 클래스\n",
    "    app = QApplication(sys.argv) \n",
    "\n",
    "    #WindowClass의 인스턴스 생성\n",
    "    myWindow = WindowClass() \n",
    "\n",
    "    #프로그램 화면을 보여주는 코드\n",
    "    myWindow.show()\n",
    "\n",
    "    #프로그램을 이벤트루프로 진입시키는(프로그램을 작동시키는) 코드\n",
    "    app.exec_()"
   ]
  },
  {
   "cell_type": "markdown",
   "id": "1a09f146",
   "metadata": {},
   "source": [
    "* Button - Qlabel : 버튼 누르기\n",
    " * self.버튼이름.clicked.connect(함수)"
   ]
  },
  {
   "cell_type": "code",
   "execution_count": 1,
   "id": "b9e6904f",
   "metadata": {},
   "outputs": [
    {
     "name": "stdout",
     "output_type": "stream",
     "text": [
      "btn_1 Clicked\n",
      "btn_2 Clicked\n"
     ]
    }
   ],
   "source": [
    "import sys\n",
    "from PyQt5.QtWidgets import *\n",
    "from PyQt5 import uic\n",
    "\n",
    "#UI파일 연결\n",
    "#단, UI파일은 Python 코드 파일과 같은 디렉토리에 위치해야한다.\n",
    "form_class = uic.loadUiType(\"./practice.ui\")[0]\n",
    "\n",
    "#화면을 띄우는데 사용되는 Class 선언\n",
    "class WindowClass(QMainWindow, form_class) :\n",
    "    def __init__(self) :\n",
    "        super().__init__()\n",
    "        self.setupUi(self)\n",
    "\n",
    "        #버튼에 기능을 연결하는 코드\n",
    "        self.Button1.clicked.connect(self.button1Function)\n",
    "\n",
    "    #btn_1이 눌리면 작동할 함수\n",
    "    def button1Function(self) :\n",
    "        print(\"btn_1 Clicked\")\n",
    "\n",
    "\n",
    "if __name__ == \"__main__\" :\n",
    "    app = QApplication(sys.argv)\n",
    "    myWindow = WindowClass() \n",
    "    myWindow.show()\n",
    "    app.exec_()"
   ]
  },
  {
   "cell_type": "markdown",
   "id": "ee71076b",
   "metadata": {},
   "source": [
    "* Input - QlineEdit : input값 입력\n",
    " * LineEdit에서 Return키(Enter키)가 눌렸을 때 기능 실행\n",
    " * self.LineEdit이름.returnPressed.connect(함수)"
   ]
  },
  {
   "cell_type": "code",
   "execution_count": null,
   "id": "d41df0a3",
   "metadata": {},
   "outputs": [],
   "source": [
    "import sys\n",
    "from PyQt5.QtWidgets import *\n",
    "from PyQt5 import uic\n",
    "\n",
    "form_class = uic.loadUiType(\"./practice.ui\")[0]\n",
    "\n",
    "class WindowClass(QMainWindow, form_class) :\n",
    "    def __init__(self) :\n",
    "        super().__init__()\n",
    "        self.setupUi(self)\n",
    "\n",
    "        #버튼에 기능을 할당하는 코드\n",
    "        self.code_input.returnPressed.connect(self.printTextFunction) # 글자 입력 (엔터키 누르면 기능 실행)\n",
    "        self.Button1.clicked.connect(self.changeTextFunction) # 버톤 클릭\n",
    "\n",
    "\n",
    "    def printTextFunction(self) :\n",
    "        #self.lineedit이름.text()\n",
    "        #Lineedit에 있는 글자를 가져오는 메서드\n",
    "        print(self.code_input.text())\n",
    "\n",
    "    def changeTextFunction(self) :\n",
    "        #self.lineedit이름.setText(\"String\")\n",
    "        #Lineedit의 글자를 바꾸는 메서드\n",
    "        self.code_input.setText(\"입력완료\")\n",
    "\n",
    "if __name__ == \"__main__\" :\n",
    "    app = QApplication(sys.argv)\n",
    "    myWindow = WindowClass()\n",
    "    myWindow.show()\n",
    "    app.exec_()"
   ]
  },
  {
   "cell_type": "markdown",
   "id": "236dba0d",
   "metadata": {},
   "source": [
    "* Display - QPixmap : 그림 보이기\n",
    " * QPixmap의 객체를 만듭니다.\n",
    " * QPixmap 객체에 사진을 불러옵니다. (qPixmapVar.load(\"사진파일경로\"))\n",
    " * Label에 QPixmap 객체를 보여지게 합니다."
   ]
  },
  {
   "cell_type": "code",
   "execution_count": 1,
   "id": "df0f2213",
   "metadata": {},
   "outputs": [],
   "source": [
    "import sys\n",
    "from PyQt5.QtWidgets import *\n",
    "from PyQt5 import uic\n",
    "\n",
    "from PyQt5.QtGui import *\n",
    "\n",
    "form_class = uic.loadUiType(\"./practice.ui\")[0]\n",
    "\n",
    "class WindowClass(QMainWindow, form_class) :\n",
    "    def __init__(self) :\n",
    "        super().__init__()\n",
    "        self.setupUi(self)\n",
    "\n",
    "        #버튼에 기능을 할당하는 코드\n",
    "        self.code_input.returnPressed.connect(self.printTextFunction) # 글자 입력 (엔터키 누르면 기능 실행)\n",
    "        self.Button1.clicked.connect(self.changeTextFunction) # 버톤 클릭\n",
    "        self.Button2.clicked.connect(self.loadImageFromFile)\n",
    "\n",
    "    def loadImageFromFile(self) :\n",
    "        #QPixmap 객체 생성 후 이미지 파일을 이용하여 QPixmap에 사진 데이터 Load하고, Label을 이용하여 화면에 표시\n",
    "        self.qPixmapFileVar = QPixmap()\n",
    "        self.qPixmapFileVar.load(\"./wordcloud.png\")\n",
    "        self.wordcloud.setPixmap(self.qPixmapFileVar)\n",
    "\n",
    "\n",
    "    def printTextFunction(self) :\n",
    "        #self.lineedit이름.text()\n",
    "        #Lineedit에 있는 글자를 가져오는 메서드\n",
    "        print(self.code_input.text())\n",
    "\n",
    "    def changeTextFunction(self) :\n",
    "        #self.lineedit이름.setText(\"String\")\n",
    "        #Lineedit의 글자를 바꾸는 메서드\n",
    "        self.code_input.setText(\"입력완료\")\n",
    "\n",
    "if __name__ == \"__main__\" :\n",
    "    app = QApplication(sys.argv)\n",
    "    myWindow = WindowClass()\n",
    "    myWindow.show()\n",
    "    app.exec_()"
   ]
  },
  {
   "cell_type": "code",
   "execution_count": null,
   "id": "80beb4d7",
   "metadata": {},
   "outputs": [],
   "source": []
  }
 ],
 "metadata": {
  "kernelspec": {
   "display_name": "Python 3 (ipykernel)",
   "language": "python",
   "name": "python3"
  },
  "language_info": {
   "codemirror_mode": {
    "name": "ipython",
    "version": 3
   },
   "file_extension": ".py",
   "mimetype": "text/x-python",
   "name": "python",
   "nbconvert_exporter": "python",
   "pygments_lexer": "ipython3",
   "version": "3.9.7"
  }
 },
 "nbformat": 4,
 "nbformat_minor": 5
}
